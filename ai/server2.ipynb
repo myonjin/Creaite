{
 "cells": [
  {
   "cell_type": "code",
   "execution_count": 1,
   "id": "2a7fd215",
   "metadata": {},
   "outputs": [
    {
     "name": "stdout",
     "output_type": "stream",
     "text": [
      "Cloning into 'sber-swap'...\n",
      "remote: Enumerating objects: 704, done.\u001b[K\n",
      "remote: Total 704 (delta 0), reused 0 (delta 0), pack-reused 704\u001b[K\n",
      "Receiving objects: 100% (704/704), 94.00 MiB | 20.26 MiB/s, done.\n",
      "Resolving deltas: 100% (176/176), done.\n"
     ]
    }
   ],
   "source": [
    "# !git clone https://github.com/sberbank-ai/sber-swap.git"
   ]
  },
  {
   "cell_type": "code",
   "execution_count": 1,
   "id": "ba13095b",
   "metadata": {
    "scrolled": true
   },
   "outputs": [
    {
     "name": "stdout",
     "output_type": "stream",
     "text": [
      "/home/j-k8e104/FaceSwap2/sber-swap\n"
     ]
    }
   ],
   "source": [
    "# cd sber-swap/\n",
    "# 이 위치에서 실행"
   ]
  },
  {
   "cell_type": "code",
   "execution_count": 2,
   "id": "3910063d",
   "metadata": {},
   "outputs": [],
   "source": [
    "# !source venv/bin/activate"
   ]
  },
  {
   "cell_type": "code",
   "execution_count": 3,
   "id": "5f634982",
   "metadata": {},
   "outputs": [
    {
     "name": "stderr",
     "output_type": "stream",
     "text": [
      "/tmp/ipykernel_1279928/3407991928.py:2: DeprecationWarning: 'flask.escape' is deprecated and will be removed in Flask 2.4. Import 'markupsafe.escape' instead.\n",
      "  from flask import Flask, escape, request, send_file, jsonify\n"
     ]
    },
    {
     "name": "stdout",
     "output_type": "stream",
     "text": [
      "Weight loaded, ready to predict\n"
     ]
    }
   ],
   "source": [
    "import yaml,os, subprocess, io, zipfile, torch, cv2\n",
    "from flask import Flask, escape, request, send_file, jsonify\n",
    "from werkzeug.utils import secure_filename\n",
    "from pathlib import Path as PPath\n",
    "import torch, requests, random, cv2\n",
    "import numpy as np\n",
    "from PIL import Image, ImageOps\n",
    "from animegan.inference import Transformer\n",
    "from transformers import AutoImageProcessor, Swin2SRForImageSuperResolution\n",
    "import matplotlib.pyplot as plt\n",
    "from animegan.utils import read_image, resize_image\n",
    "from omegaconf import OmegaConf\n",
    "\n",
    "os.environ[\"CUDA_DEVICE_ORDER\"] = \"PCI_BUS_ID\"\n",
    "os.environ[\"CUDA_VISIBLE_DEVICES\"] = \"6\"\n",
    "\n",
    "anime_transformer = Transformer('hayao')\n",
    "processor = AutoImageProcessor.from_pretrained(\"caidas/swin2SR-classical-sr-x2-64\",device=\"cuda\")\n",
    "model = Swin2SRForImageSuperResolution.from_pretrained(\"caidas/swin2SR-classical-sr-x2-64\").cuda()"
   ]
  },
  {
   "cell_type": "code",
   "execution_count": 4,
   "id": "a13dc25b",
   "metadata": {},
   "outputs": [],
   "source": [
    "app = Flask(__name__)\n",
    "\n",
    "def DeleteAllFiles(directory):\n",
    "    for tempfile in os.scandir(directory):\n",
    "        if tempfile.is_file():\n",
    "            os.remove(tempfile.path)\n",
    "    \n",
    "@app.route('/', methods=['POST','GET'])\n",
    "def hello():\n",
    "    name = request.args.get(\"name\", \"World\")\n",
    "    return f'Hello, {escape(name)}!'"
   ]
  },
  {
   "cell_type": "code",
   "execution_count": 5,
   "id": "9a8eeff6",
   "metadata": {},
   "outputs": [],
   "source": [
    "@app.route('/flask2/faceswap', methods=['POST'])\n",
    "def faceswapImage():\n",
    "    if request.method == 'POST':\n",
    "        DeleteAllFiles('./examples/tempfiles/')\n",
    "        # Check if the request contains an image\n",
    "        if 'image_1' not in request.files:\n",
    "            return \"No image file found in the request\", 400\n",
    "\n",
    "        # Save the uploaded image\n",
    "        source_image = request.files['image_1']\n",
    "        if source_image.mode == 'RGBA':\n",
    "            source_image = source_image.convert('RGB')\n",
    "        source_filename = secure_filename(source_image.filename)\n",
    "        source_image_path = os.path.join('examples/tempfiles', source_filename)\n",
    "        source_image.save(source_image_path)\n",
    "        target_image = request.files['image_2']\n",
    "        if target_image.mode == 'RGBA':\n",
    "            target_image = target_image.convert('RGB')\n",
    "        target_filename = secure_filename(target_image.filename)\n",
    "        target_image_path = os.path.join('examples/tempfiles', target_filename)\n",
    "        target_image.save(target_image_path)\n",
    "        output_image_name = \"good.png\"\n",
    "        instruction = f\"python inference.py --source_paths {source_image_path} --target_image {target_image_path} --out_image_name examples/tempfiles/{output_image_name} --image_to_image True\"\n",
    "#         os.system(instruction)\n",
    "        subprocess.run(instruction, shell=True)\n",
    "        # Return the saved image as a response\n",
    "        if (output_image_name.split(\".\")[-1] == \"png\"):\n",
    "            return send_file(PPath(f'examples/tempfiles/{output_image_name}'), mimetype='image/png')\n",
    "        return send_file(PPath(f'examples/tempfiles/{output_image_name}'), mimetype='image/jpeg')"
   ]
  },
  {
   "cell_type": "code",
   "execution_count": 6,
   "id": "5f99c16a",
   "metadata": {},
   "outputs": [],
   "source": [
    "@app.route('/flask2/scaleup', methods=['POST'])\n",
    "def scaleupImage():\n",
    "    if 'image_1' not in request.files:\n",
    "        return 'No file part', 400\n",
    "\n",
    "    image_file = request.files['image_1']\n",
    "\n",
    "    # Check if the file is empty\n",
    "    if image_file.filename == '':\n",
    "        return 'No selected file', 400\n",
    "\n",
    "    # Open the uploaded file as a PIL Image\n",
    "    image = Image.open(image_file)\n",
    "    if image.mode == 'RGBA':\n",
    "        image = image.convert('RGB')\n",
    "    #image = Image.open(requests.get(url, stream=True).raw)\n",
    "    \n",
    "    # prepare image for the model\n",
    "    inputs = processor(image, return_tensors=\"pt\")\n",
    "    inputs.to(\"cuda\")\n",
    "    # forward pass\n",
    "    with torch.no_grad():\n",
    "        outputs = model(**inputs)\n",
    "\n",
    "    output = outputs.reconstruction.data.squeeze().float().cpu().clamp_(0, 1).numpy()\n",
    "    output = np.moveaxis(output, source=0, destination=-1)\n",
    "    output = (output * 255.0).round().astype(np.uint8)  # float32 to uint8\n",
    "    # you can visualize `output` with `Image.fromarray`\n",
    "    img = Image.fromarray(output)\n",
    "    img.save(\"examples/tempfiles/sr_result.png\")\n",
    "    # Send the image as a response with the appropriate content type\n",
    "    return send_file(PPath(f'examples/tempfiles/sr_result.png'), mimetype='image/png')"
   ]
  },
  {
   "cell_type": "code",
   "execution_count": 7,
   "id": "298ba649",
   "metadata": {},
   "outputs": [],
   "source": [
    "@app.route('/flask2/animestyle', methods=['POST'])\n",
    "def animestyle():\n",
    "    if 'image_1' not in request.files:\n",
    "        return 'No file part', 400\n",
    "\n",
    "    image_file = request.files['image_1']\n",
    "\n",
    "    # Check if the file is empty\n",
    "    if image_file.filename == '':\n",
    "        return 'No selected file', 400\n",
    "\n",
    "    # Open the uploaded file as a PIL Image\n",
    "    image = Image.open(image_file)\n",
    "    image = ImageOps.exif_transpose(image)\n",
    "    \n",
    "    if image.mode == 'RGBA':\n",
    "        image = image.convert('RGB')\n",
    "    imgArray = np.asarray(image)\n",
    "    anime_img = (anime_transformer.transform(imgArray) + 1) / 2\n",
    "    anime_img = anime_img[0]\n",
    "    anime_img = (anime_img * 255).astype(np.uint8)\n",
    "    output = Image.fromarray(anime_img)\n",
    "    output.save(\"examples/tempfiles/as_result.png\")\n",
    "    # Send the image as a response with the appropriate content type\n",
    "    return send_file(PPath(f'examples/tempfiles/as_result.png'), mimetype='image/png')"
   ]
  },
  {
   "cell_type": "code",
   "execution_count": null,
   "id": "dc798aae",
   "metadata": {},
   "outputs": [
    {
     "name": "stdout",
     "output_type": "stream",
     "text": [
      " * Serving Flask app '__main__'\n",
      " * Debug mode: off\n"
     ]
    },
    {
     "name": "stderr",
     "output_type": "stream",
     "text": [
      "WARNING: This is a development server. Do not use it in a production deployment. Use a production WSGI server instead.\n",
      " * Running on all addresses (0.0.0.0)\n",
      " * Running on http://127.0.0.1:5001\n",
      " * Running on http://70.12.130.121:5001\n",
      "Press CTRL+C to quit\n",
      "[2023-05-18 23:57:42,359] ERROR in app: Exception on /flask2/animestyle [POST]\n",
      "Traceback (most recent call last):\n",
      "  File \"/home/j-k8e104/.local/lib/python3.9/site-packages/flask/app.py\", line 2190, in wsgi_app\n",
      "    response = self.full_dispatch_request()\n",
      "  File \"/home/j-k8e104/.local/lib/python3.9/site-packages/flask/app.py\", line 1486, in full_dispatch_request\n",
      "    rv = self.handle_user_exception(e)\n",
      "  File \"/home/j-k8e104/.local/lib/python3.9/site-packages/flask/app.py\", line 1484, in full_dispatch_request\n",
      "    rv = self.dispatch_request()\n",
      "  File \"/home/j-k8e104/.local/lib/python3.9/site-packages/flask/app.py\", line 1469, in dispatch_request\n",
      "    return self.ensure_sync(self.view_functions[rule.endpoint])(**view_args)\n",
      "  File \"/tmp/ipykernel_1279928/2070023512.py\", line 19, in animestyle\n",
      "    anime_img = (anime_transformer.transform(imgArray) + 1) / 2\n",
      "  File \"/home/j-k8e104/FaceSwap2/animegan/inference.py\", line 45, in transform\n",
      "    fake = self.G(self.preprocess_images(image))\n",
      "  File \"/home/j-k8e104/.local/lib/python3.9/site-packages/torch/nn/modules/module.py\", line 1501, in _call_impl\n",
      "    return forward_call(*args, **kwargs)\n",
      "  File \"/home/j-k8e104/FaceSwap2/animegan/modeling/anime_gan.py\", line 55, in forward\n",
      "    out = self.encode_blocks(x)\n",
      "  File \"/home/j-k8e104/.local/lib/python3.9/site-packages/torch/nn/modules/module.py\", line 1501, in _call_impl\n",
      "    return forward_call(*args, **kwargs)\n",
      "  File \"/home/j-k8e104/.local/lib/python3.9/site-packages/torch/nn/modules/container.py\", line 217, in forward\n",
      "    input = module(input)\n",
      "  File \"/home/j-k8e104/.local/lib/python3.9/site-packages/torch/nn/modules/module.py\", line 1501, in _call_impl\n",
      "    return forward_call(*args, **kwargs)\n",
      "  File \"/home/j-k8e104/FaceSwap2/animegan/modeling/conv_blocks.py\", line 18, in forward\n",
      "    return out1 + out2\n",
      "RuntimeError: The size of tensor a (142) must match the size of tensor b (141) at non-singleton dimension 3\n",
      "13.124.65.156 - - [18/May/2023 23:57:42] \"POST /flask2/animestyle HTTP/1.1\" 500 -\n",
      "13.124.65.156 - - [18/May/2023 23:57:53] \"POST /flask2/animestyle HTTP/1.1\" 200 -\n",
      "[23:58:48] ../src/nnvm/legacy_json_util.cc:208: Loading symbol saved by previous version v1.5.0. Attempting to upgrade...\n",
      "[23:58:48] ../src/nnvm/legacy_json_util.cc:216: Symbol successfully upgraded!\n",
      "[23:58:48] ../src/executor/graph_executor.cc:1991: Subgraph backend MKLDNN is activated.\n"
     ]
    },
    {
     "name": "stdout",
     "output_type": "stream",
     "text": [
      "input mean and std: 127.5 127.5\n",
      "find model: ./insightface_func/models/antelope/glintr100.onnx recognition\n",
      "find model: ./insightface_func/models/antelope/scrfd_10g_bnkps.onnx detection\n",
      "set det-size: (640, 640)\n",
      "loading ./coordinate_reg/model/2d106det 0\n",
      "input mean and std: 127.5 127.5\n",
      "find model: ./insightface_func/models/antelope/glintr100.onnx recognition\n",
      "find model: ./insightface_func/models/antelope/scrfd_10g_bnkps.onnx detection\n",
      "set det-size: (640, 640)\n",
      "List of source paths:  ['examples/tempfiles/sent_image1.png']\n",
      "List of target paths:  []\n"
     ]
    },
    {
     "name": "stderr",
     "output_type": "stream",
     "text": [
      "100%|██████████| 1/1 [00:00<00:00, 75.75it/s]\n",
      "1it [00:00, 360.21it/s]\n",
      "1it [00:00, 4744.69it/s]\n",
      "100%|██████████| 1/1 [00:00<00:00,  4.99it/s]\n",
      "100%|██████████| 1/1 [00:00<00:00, 25731.93it/s]\n"
     ]
    },
    {
     "name": "stdout",
     "output_type": "stream",
     "text": [
      "Swapped Image saved with path examples/tempfiles/good.png\n",
      "Total time:  1.808093786239624\n"
     ]
    },
    {
     "name": "stderr",
     "output_type": "stream",
     "text": [
      "13.124.65.156 - - [18/May/2023 23:58:51] \"POST /flask2/faceswap HTTP/1.1\" 200 -\n",
      "13.124.65.156 - - [19/May/2023 00:35:17] \"POST /flask2/animestyle HTTP/1.1\" 200 -\n",
      "[00:36:12] ../src/nnvm/legacy_json_util.cc:208: Loading symbol saved by previous version v1.5.0. Attempting to upgrade...\n",
      "[00:36:12] ../src/nnvm/legacy_json_util.cc:216: Symbol successfully upgraded!\n",
      "[00:36:12] ../src/executor/graph_executor.cc:1991: Subgraph backend MKLDNN is activated.\n"
     ]
    },
    {
     "name": "stdout",
     "output_type": "stream",
     "text": [
      "input mean and std: 127.5 127.5\n",
      "find model: ./insightface_func/models/antelope/glintr100.onnx recognition\n",
      "find model: ./insightface_func/models/antelope/scrfd_10g_bnkps.onnx detection\n",
      "set det-size: (640, 640)\n",
      "loading ./coordinate_reg/model/2d106det 0\n",
      "input mean and std: 127.5 127.5\n",
      "find model: ./insightface_func/models/antelope/glintr100.onnx recognition\n",
      "find model: ./insightface_func/models/antelope/scrfd_10g_bnkps.onnx detection\n",
      "set det-size: (640, 640)\n",
      "List of source paths:  ['examples/tempfiles/sent_image1.png']\n",
      "List of target paths:  []\n"
     ]
    },
    {
     "name": "stderr",
     "output_type": "stream",
     "text": [
      "100%|██████████| 1/1 [00:00<00:00, 76.13it/s]\n",
      "1it [00:00, 362.17it/s]\n",
      "1it [00:00, 4894.17it/s]\n",
      "100%|██████████| 1/1 [00:00<00:00,  5.01it/s]\n",
      "100%|██████████| 1/1 [00:00<00:00, 29330.80it/s]\n"
     ]
    },
    {
     "name": "stdout",
     "output_type": "stream",
     "text": [
      "Swapped Image saved with path examples/tempfiles/good.png\n",
      "Total time:  1.8419158458709717\n"
     ]
    },
    {
     "name": "stderr",
     "output_type": "stream",
     "text": [
      "13.124.65.156 - - [19/May/2023 00:36:15] \"POST /flask2/faceswap HTTP/1.1\" 200 -\n",
      "[00:38:28] ../src/nnvm/legacy_json_util.cc:208: Loading symbol saved by previous version v1.5.0. Attempting to upgrade...\n",
      "[00:38:28] ../src/nnvm/legacy_json_util.cc:216: Symbol successfully upgraded!\n",
      "[00:38:29] ../src/executor/graph_executor.cc:1991: Subgraph backend MKLDNN is activated.\n"
     ]
    },
    {
     "name": "stdout",
     "output_type": "stream",
     "text": [
      "input mean and std: 127.5 127.5\n",
      "find model: ./insightface_func/models/antelope/glintr100.onnx recognition\n",
      "find model: ./insightface_func/models/antelope/scrfd_10g_bnkps.onnx detection\n",
      "set det-size: (640, 640)\n",
      "loading ./coordinate_reg/model/2d106det 0\n",
      "input mean and std: 127.5 127.5\n",
      "find model: ./insightface_func/models/antelope/glintr100.onnx recognition\n",
      "find model: ./insightface_func/models/antelope/scrfd_10g_bnkps.onnx detection\n",
      "set det-size: (640, 640)\n",
      "List of source paths:  ['examples/tempfiles/sent_image1.png']\n",
      "List of target paths:  []\n"
     ]
    },
    {
     "name": "stderr",
     "output_type": "stream",
     "text": [
      "100%|██████████| 1/1 [00:00<00:00, 71.07it/s]\n",
      "1it [00:00, 318.11it/s]\n",
      "1it [00:00, 4629.47it/s]\n",
      "100%|██████████| 1/1 [00:00<00:00,  4.88it/s]\n",
      "100%|██████████| 1/1 [00:00<00:00, 29330.80it/s]\n"
     ]
    },
    {
     "name": "stdout",
     "output_type": "stream",
     "text": [
      "Swapped Image saved with path examples/tempfiles/good.png\n",
      "Total time:  1.2065434455871582\n"
     ]
    },
    {
     "name": "stderr",
     "output_type": "stream",
     "text": [
      "[2023-05-19 00:38:31,942] ERROR in app: Exception on /flask2/faceswap [POST]\n",
      "Traceback (most recent call last):\n",
      "  File \"/home/j-k8e104/.local/lib/python3.9/site-packages/flask/app.py\", line 2190, in wsgi_app\n",
      "    response = self.full_dispatch_request()\n",
      "  File \"/home/j-k8e104/.local/lib/python3.9/site-packages/flask/app.py\", line 1486, in full_dispatch_request\n",
      "    rv = self.handle_user_exception(e)\n",
      "  File \"/home/j-k8e104/.local/lib/python3.9/site-packages/flask/app.py\", line 1484, in full_dispatch_request\n",
      "    rv = self.dispatch_request()\n",
      "  File \"/home/j-k8e104/.local/lib/python3.9/site-packages/flask/app.py\", line 1469, in dispatch_request\n",
      "    return self.ensure_sync(self.view_functions[rule.endpoint])(**view_args)\n",
      "  File \"/tmp/ipykernel_1279928/3179799492.py\", line 28, in faceswapImage\n",
      "    return send_file(PPath(f'examples/tempfiles/{output_image_name}'), mimetype='image/png')\n",
      "  File \"/home/j-k8e104/.local/lib/python3.9/site-packages/flask/helpers.py\", line 504, in send_file\n",
      "    return werkzeug.utils.send_file(  # type: ignore[return-value]\n",
      "  File \"/home/j-k8e104/.local/lib/python3.9/site-packages/werkzeug/utils.py\", line 431, in send_file\n",
      "    stat = os.stat(path)\n",
      "FileNotFoundError: [Errno 2] No such file or directory: '/home/j-k8e104/FaceSwap2/sber-swap/examples/tempfiles/good.png'\n",
      "13.124.65.156 - - [19/May/2023 00:38:31] \"POST /flask2/faceswap HTTP/1.1\" 500 -\n",
      "[00:38:41] ../src/nnvm/legacy_json_util.cc:208: Loading symbol saved by previous version v1.5.0. Attempting to upgrade...\n",
      "[00:38:41] ../src/nnvm/legacy_json_util.cc:216: Symbol successfully upgraded!\n",
      "[00:38:41] ../src/executor/graph_executor.cc:1991: Subgraph backend MKLDNN is activated.\n"
     ]
    },
    {
     "name": "stdout",
     "output_type": "stream",
     "text": [
      "input mean and std: 127.5 127.5\n",
      "find model: ./insightface_func/models/antelope/glintr100.onnx recognition\n",
      "find model: ./insightface_func/models/antelope/scrfd_10g_bnkps.onnx detection\n",
      "set det-size: (640, 640)\n",
      "loading ./coordinate_reg/model/2d106det 0\n",
      "input mean and std: 127.5 127.5\n",
      "find model: ./insightface_func/models/antelope/glintr100.onnx recognition\n",
      "find model: ./insightface_func/models/antelope/scrfd_10g_bnkps.onnx detection\n",
      "set det-size: (640, 640)\n",
      "List of source paths:  ['examples/tempfiles/sent_image1.png']\n",
      "List of target paths:  []\n"
     ]
    },
    {
     "name": "stderr",
     "output_type": "stream",
     "text": [
      "100%|██████████| 1/1 [00:00<00:00, 79.41it/s]\n",
      "1it [00:00, 443.56it/s]\n",
      "1it [00:00, 4490.69it/s]\n",
      "100%|██████████| 1/1 [00:00<00:00,  4.86it/s]\n",
      "100%|██████████| 1/1 [00:00<00:00, 31068.92it/s]\n"
     ]
    },
    {
     "name": "stdout",
     "output_type": "stream",
     "text": [
      "Swapped Image saved with path examples/tempfiles/good.png\n",
      "Total time:  0.7857270240783691\n"
     ]
    },
    {
     "name": "stderr",
     "output_type": "stream",
     "text": [
      "13.124.65.156 - - [19/May/2023 00:38:43] \"POST /flask2/faceswap HTTP/1.1\" 200 -\n",
      "[00:38:58] ../src/nnvm/legacy_json_util.cc:208: Loading symbol saved by previous version v1.5.0. Attempting to upgrade...\n",
      "[00:38:58] ../src/nnvm/legacy_json_util.cc:216: Symbol successfully upgraded!\n",
      "[00:38:58] ../src/executor/graph_executor.cc:1991: Subgraph backend MKLDNN is activated.\n"
     ]
    },
    {
     "name": "stdout",
     "output_type": "stream",
     "text": [
      "input mean and std: 127.5 127.5\n",
      "find model: ./insightface_func/models/antelope/glintr100.onnx recognition\n",
      "find model: ./insightface_func/models/antelope/scrfd_10g_bnkps.onnx detection\n",
      "set det-size: (640, 640)\n",
      "loading ./coordinate_reg/model/2d106det 0\n",
      "input mean and std: 127.5 127.5\n",
      "find model: ./insightface_func/models/antelope/glintr100.onnx recognition\n",
      "find model: ./insightface_func/models/antelope/scrfd_10g_bnkps.onnx detection\n",
      "set det-size: (640, 640)\n",
      "List of source paths:  ['examples/tempfiles/sent_image1.png']\n",
      "List of target paths:  []\n"
     ]
    },
    {
     "name": "stderr",
     "output_type": "stream",
     "text": [
      "100%|██████████| 1/1 [00:00<00:00, 84.41it/s]\n",
      "1it [00:00, 365.01it/s]\n",
      "1it [00:00, 4788.02it/s]\n",
      "100%|██████████| 1/1 [00:00<00:00,  5.08it/s]\n",
      "100%|██████████| 1/1 [00:00<00:00, 27235.74it/s]\n"
     ]
    },
    {
     "name": "stdout",
     "output_type": "stream",
     "text": [
      "Swapped Image saved with path examples/tempfiles/good.png\n",
      "Total time:  1.8338737487792969\n"
     ]
    },
    {
     "name": "stderr",
     "output_type": "stream",
     "text": [
      "13.124.65.156 - - [19/May/2023 00:39:01] \"POST /flask2/faceswap HTTP/1.1\" 200 -\n",
      "[00:39:47] ../src/nnvm/legacy_json_util.cc:208: Loading symbol saved by previous version v1.5.0. Attempting to upgrade...\n",
      "[00:39:47] ../src/nnvm/legacy_json_util.cc:216: Symbol successfully upgraded!\n",
      "[00:39:47] ../src/executor/graph_executor.cc:1991: Subgraph backend MKLDNN is activated.\n"
     ]
    },
    {
     "name": "stdout",
     "output_type": "stream",
     "text": [
      "input mean and std: 127.5 127.5\n",
      "find model: ./insightface_func/models/antelope/glintr100.onnx recognition\n",
      "find model: ./insightface_func/models/antelope/scrfd_10g_bnkps.onnx detection\n",
      "set det-size: (640, 640)\n",
      "loading ./coordinate_reg/model/2d106det 0\n",
      "input mean and std: 127.5 127.5\n",
      "find model: ./insightface_func/models/antelope/glintr100.onnx recognition\n",
      "find model: ./insightface_func/models/antelope/scrfd_10g_bnkps.onnx detection\n",
      "set det-size: (640, 640)\n",
      "List of source paths:  ['examples/tempfiles/sent_image1.png']\n",
      "List of target paths:  []\n"
     ]
    },
    {
     "name": "stderr",
     "output_type": "stream",
     "text": [
      "100%|██████████| 1/1 [00:00<00:00, 80.28it/s]\n",
      "1it [00:00, 318.16it/s]\n",
      "1it [00:00, 4583.94it/s]\n",
      "100%|██████████| 1/1 [00:00<00:00,  5.09it/s]\n",
      "100%|██████████| 1/1 [00:00<00:00, 29127.11it/s]\n"
     ]
    },
    {
     "name": "stdout",
     "output_type": "stream",
     "text": [
      "Swapped Image saved with path examples/tempfiles/good.png\n",
      "Total time:  1.18515944480896\n"
     ]
    },
    {
     "name": "stderr",
     "output_type": "stream",
     "text": [
      "13.124.65.156 - - [19/May/2023 00:39:50] \"POST /flask2/faceswap HTTP/1.1\" 200 -\n",
      "13.124.65.156 - - [19/May/2023 01:19:18] \"POST /flask2/faceswap HTTP/1.1\" 400 -\n"
     ]
    }
   ],
   "source": [
    "app.run(host=\"0.0.0.0\", port=5001)"
   ]
  },
  {
   "cell_type": "code",
   "execution_count": null,
   "id": "bca7db5c",
   "metadata": {},
   "outputs": [],
   "source": []
  }
 ],
 "metadata": {
  "kernelspec": {
   "display_name": "Python 3 (ipykernel)",
   "language": "python",
   "name": "python3"
  },
  "language_info": {
   "codemirror_mode": {
    "name": "ipython",
    "version": 3
   },
   "file_extension": ".py",
   "mimetype": "text/x-python",
   "name": "python",
   "nbconvert_exporter": "python",
   "pygments_lexer": "ipython3",
   "version": "3.9.7"
  }
 },
 "nbformat": 4,
 "nbformat_minor": 5
}
